{
 "cells": [
  {
   "cell_type": "markdown",
   "metadata": {},
   "source": [
    "# HR Analytics Data\n",
    ">## Introduction"
   ]
  },
  {
   "cell_type": "markdown",
   "metadata": {},
   "source": [
    "Dalam project ini saya akan menganalisa data dari database Human Resource. Dalam database ini terdapat 7 tabel yaitu :\n",
    "- countries   : berisi nama negara di mana karyawan bekerja\n",
    "- employees   : berisi data HR secara umum yaitu nama depan dan belakang, email, gaji, informasi kontak karyawan\n",
    "- departments : berisi nama departemen dari perusahaan\n",
    "- job history : riwayat kerja dari karyawan\n",
    "- jobs        : berisi nama jabatan dan gaji tertinggi dan terendah dari jabatan tersebut\n",
    "- locations   : berisi tempat dimana karyawan bekerja karena dilihat dari data perusahaan dapat diamsusikan sebagai perusahaan internasional\n",
    "- regions     : wilayah tempat karyawan bekerja\n",
    "\n",
    "Setiap Tabel dapat terhubung secara langsung maupun tidak langsung sehingga tabel dari database ini berkaitan"
   ]
  },
  {
   "cell_type": "markdown",
   "metadata": {},
   "source": [
    "# Dabatase\n",
    ">## Database Connecting"
   ]
  },
  {
   "cell_type": "markdown",
   "metadata": {},
   "source": [
    "Berikut ini adalah tahap - tahapan untuk mengoneksikan sql ke dalam jupyter notebook. yang di lakukan pertama adalah melakukan import dari modul yang dibutuhkan lalu memulai koneksi dengan sql database ``human_resource``."
   ]
  },
  {
   "cell_type": "code",
   "execution_count": 1,
   "metadata": {},
   "outputs": [
    {
     "data": {
      "text/html": [
       "        <script type=\"text/javascript\">\n",
       "        window.PlotlyConfig = {MathJaxConfig: 'local'};\n",
       "        if (window.MathJax) {MathJax.Hub.Config({SVG: {font: \"STIX-Web\"}});}\n",
       "        if (typeof require !== 'undefined') {\n",
       "        require.undef(\"plotly\");\n",
       "        requirejs.config({\n",
       "            paths: {\n",
       "                'plotly': ['https://cdn.plot.ly/plotly-2.9.0.min']\n",
       "            }\n",
       "        });\n",
       "        require(['plotly'], function(Plotly) {\n",
       "            window._Plotly = Plotly;\n",
       "        });\n",
       "        }\n",
       "        </script>\n",
       "        "
      ]
     },
     "metadata": {},
     "output_type": "display_data"
    }
   ],
   "source": [
    "#sql connector\n",
    "import mysql.connector as sqlcon\n",
    "\n",
    "#data\n",
    "import pandas as pd\n",
    "import numpy as np\n",
    "\n",
    "#data visualization\n",
    "import seaborn as sns\n",
    "import matplotlib.pyplot as plt\n",
    "import plotly.express as px\n",
    "import plotly.graph_objects as go\n",
    "from plotly.subplots import make_subplots\n",
    "import plotly\n",
    "from plotly import version\n",
    "from plotly.offline import download_plotlyjs, init_notebook_mode, plot, iplot\n",
    "init_notebook_mode(connected=True)\n",
    "from IPython.display import Image\n",
    "\n",
    "#uji hipotesis\n",
    "from scipy.stats import shapiro\n",
    "from scipy.stats import kruskal\n",
    "\n",
    "import warnings\n",
    "\n",
    "warnings.filterwarnings('ignore')\n",
    "pd.set_option('display.max_columns', None)"
   ]
  },
  {
   "cell_type": "code",
   "execution_count": 3,
   "metadata": {},
   "outputs": [],
   "source": [
    "mydb = sqlcon.connect(\n",
    "    host = 'localhost',\n",
    "    user = 'root',\n",
    "    passwd = 'M4ut4hu4j4',\n",
    "    database = 'human_resource'\n",
    ")"
   ]
  },
  {
   "cell_type": "markdown",
   "metadata": {},
   "source": [
    "Setelah itu mulai melakukan query dari database tersebut. Tabel yang digunakan adalah ```employees```, ```departments```, ```job_history```,```jobs```,```countries```,```regions```, dan ```locations```. Data yang dipilih dari masing -  masing tabel tersebut adalah :\n",
    "- first name dan last name concat as name, data berisi nama depan dan belakang dari karyawan\n",
    "- phone number, nomor telepon karyawan penting digunakan karena berisi data unique\n",
    "- hire date, waktu karyawan dipekerjakan di perusahaan tersebut\n",
    "- start date - end date, durasi karyawan bekerja\n",
    "- salary, gaji karyawan\n",
    "- min - max salary, gaji tertinggi dan terendah dari setiap departemen di perusahaan\n",
    "- commission_pct, persentasi komisi yang diterima oleh karyawan\n",
    "- department name, nama tempat departemen karyawan bekerja\n",
    "- job_title, nama jabatan karyawan\n",
    "- city, kota karyawan bekerja\n",
    "- country id, code negara karyawan bekerja\n",
    "- country name, nama negara karyawan bekerja\n",
    "- region_name daerah karyawan bekerja\n",
    "\n",
    "informasi di atas akan dibentuk dengan dataframe"
   ]
  },
  {
   "cell_type": "code",
   "execution_count": 5,
   "metadata": {},
   "outputs": [
    {
     "data": {
      "text/html": [
       "<div>\n",
       "<style scoped>\n",
       "    .dataframe tbody tr th:only-of-type {\n",
       "        vertical-align: middle;\n",
       "    }\n",
       "\n",
       "    .dataframe tbody tr th {\n",
       "        vertical-align: top;\n",
       "    }\n",
       "\n",
       "    .dataframe thead th {\n",
       "        text-align: right;\n",
       "    }\n",
       "</style>\n",
       "<table border=\"1\" class=\"dataframe\">\n",
       "  <thead>\n",
       "    <tr style=\"text-align: right;\">\n",
       "      <th></th>\n",
       "      <th>name</th>\n",
       "      <th>phone_number</th>\n",
       "      <th>hire_date</th>\n",
       "      <th>start_date</th>\n",
       "      <th>end_date</th>\n",
       "      <th>salary</th>\n",
       "      <th>min_salary</th>\n",
       "      <th>max_salary</th>\n",
       "      <th>commission_pct</th>\n",
       "      <th>department_name</th>\n",
       "      <th>job_title</th>\n",
       "      <th>city</th>\n",
       "      <th>country_id</th>\n",
       "      <th>country_name</th>\n",
       "      <th>region_name</th>\n",
       "    </tr>\n",
       "  </thead>\n",
       "  <tbody>\n",
       "    <tr>\n",
       "      <th>0</th>\n",
       "      <td>Steven King</td>\n",
       "      <td>515.123.4567</td>\n",
       "      <td>1987-06-17</td>\n",
       "      <td>None</td>\n",
       "      <td>None</td>\n",
       "      <td>24000.00</td>\n",
       "      <td>20000</td>\n",
       "      <td>40000</td>\n",
       "      <td>0.00</td>\n",
       "      <td>Executive</td>\n",
       "      <td>President</td>\n",
       "      <td>Seattle</td>\n",
       "      <td>US</td>\n",
       "      <td>United States of America</td>\n",
       "      <td>Americas\\r</td>\n",
       "    </tr>\n",
       "    <tr>\n",
       "      <th>1</th>\n",
       "      <td>Neena Kochhar</td>\n",
       "      <td>515.123.4568</td>\n",
       "      <td>1987-06-18</td>\n",
       "      <td>1989-09-21</td>\n",
       "      <td>1993-10-27</td>\n",
       "      <td>17000.00</td>\n",
       "      <td>15000</td>\n",
       "      <td>30000</td>\n",
       "      <td>0.00</td>\n",
       "      <td>Executive</td>\n",
       "      <td>Administration Vice President</td>\n",
       "      <td>Seattle</td>\n",
       "      <td>US</td>\n",
       "      <td>United States of America</td>\n",
       "      <td>Americas\\r</td>\n",
       "    </tr>\n",
       "    <tr>\n",
       "      <th>2</th>\n",
       "      <td>Neena Kochhar</td>\n",
       "      <td>515.123.4568</td>\n",
       "      <td>1987-06-18</td>\n",
       "      <td>1989-09-21</td>\n",
       "      <td>1993-10-27</td>\n",
       "      <td>17000.00</td>\n",
       "      <td>4200</td>\n",
       "      <td>9000</td>\n",
       "      <td>0.00</td>\n",
       "      <td>Executive</td>\n",
       "      <td>Public Accountant</td>\n",
       "      <td>Seattle</td>\n",
       "      <td>US</td>\n",
       "      <td>United States of America</td>\n",
       "      <td>Americas\\r</td>\n",
       "    </tr>\n",
       "    <tr>\n",
       "      <th>3</th>\n",
       "      <td>Neena Kochhar</td>\n",
       "      <td>515.123.4568</td>\n",
       "      <td>1987-06-18</td>\n",
       "      <td>1993-10-28</td>\n",
       "      <td>1997-03-15</td>\n",
       "      <td>17000.00</td>\n",
       "      <td>15000</td>\n",
       "      <td>30000</td>\n",
       "      <td>0.00</td>\n",
       "      <td>Executive</td>\n",
       "      <td>Administration Vice President</td>\n",
       "      <td>Seattle</td>\n",
       "      <td>US</td>\n",
       "      <td>United States of America</td>\n",
       "      <td>Americas\\r</td>\n",
       "    </tr>\n",
       "    <tr>\n",
       "      <th>4</th>\n",
       "      <td>Neena Kochhar</td>\n",
       "      <td>515.123.4568</td>\n",
       "      <td>1987-06-18</td>\n",
       "      <td>1993-10-28</td>\n",
       "      <td>1997-03-15</td>\n",
       "      <td>17000.00</td>\n",
       "      <td>8200</td>\n",
       "      <td>16000</td>\n",
       "      <td>0.00</td>\n",
       "      <td>Executive</td>\n",
       "      <td>Accounting Manager</td>\n",
       "      <td>Seattle</td>\n",
       "      <td>US</td>\n",
       "      <td>United States of America</td>\n",
       "      <td>Americas\\r</td>\n",
       "    </tr>\n",
       "  </tbody>\n",
       "</table>\n",
       "</div>"
      ],
      "text/plain": [
       "            name  phone_number   hire_date  start_date    end_date    salary  \\\n",
       "0    Steven King  515.123.4567  1987-06-17        None        None  24000.00   \n",
       "1  Neena Kochhar  515.123.4568  1987-06-18  1989-09-21  1993-10-27  17000.00   \n",
       "2  Neena Kochhar  515.123.4568  1987-06-18  1989-09-21  1993-10-27  17000.00   \n",
       "3  Neena Kochhar  515.123.4568  1987-06-18  1993-10-28  1997-03-15  17000.00   \n",
       "4  Neena Kochhar  515.123.4568  1987-06-18  1993-10-28  1997-03-15  17000.00   \n",
       "\n",
       "  min_salary max_salary commission_pct department_name  \\\n",
       "0      20000      40000           0.00       Executive   \n",
       "1      15000      30000           0.00       Executive   \n",
       "2       4200       9000           0.00       Executive   \n",
       "3      15000      30000           0.00       Executive   \n",
       "4       8200      16000           0.00       Executive   \n",
       "\n",
       "                       job_title     city country_id  \\\n",
       "0                      President  Seattle         US   \n",
       "1  Administration Vice President  Seattle         US   \n",
       "2              Public Accountant  Seattle         US   \n",
       "3  Administration Vice President  Seattle         US   \n",
       "4             Accounting Manager  Seattle         US   \n",
       "\n",
       "               country_name region_name  \n",
       "0  United States of America  Americas\\r  \n",
       "1  United States of America  Americas\\r  \n",
       "2  United States of America  Americas\\r  \n",
       "3  United States of America  Americas\\r  \n",
       "4  United States of America  Americas\\r  "
      ]
     },
     "execution_count": 5,
     "metadata": {},
     "output_type": "execute_result"
    }
   ],
   "source": [
    "mycursor = mydb.cursor()\n",
    "query = '''SELECT  CONCAT(first_name,' ', LAST_NAME) AS name,e.phone_number,e.hire_date,j.start_date,j.end_date,e.salary,o.min_salary,o.max_salary,e.commission_pct,d.department_name,o.job_title,l.city,l.country_id,c.country_name,r.region_name\n",
    "FROM employees e\n",
    "left join departments d\n",
    "ON e.department_id = d.department_id\n",
    "left join job_history j\n",
    "on e.employee_id = j.employee_id\n",
    "left join jobs o\n",
    "on j.job_id = o.job_id or e.job_id = o.job_id\n",
    "left join locations l\n",
    "on d.location_id = l.location_id\n",
    "left join countries c\n",
    "on l.country_id = c.country_id\n",
    "left join regions r\n",
    "on c.region_id = r.region_id'''\n",
    "mycursor.execute(query)\n",
    "result = mycursor.fetchall()\n",
    "df = pd.DataFrame(result, columns = mycursor.column_names)\n",
    "df.head()"
   ]
  },
  {
   "cell_type": "markdown",
   "metadata": {},
   "source": [
    ">## Database manipulation"
   ]
  },
  {
   "cell_type": "markdown",
   "metadata": {},
   "source": [
    "### Missing Value"
   ]
  },
  {
   "cell_type": "code",
   "execution_count": 6,
   "metadata": {},
   "outputs": [
    {
     "data": {
      "text/plain": [
       "name                0.000000\n",
       "phone_number        0.000000\n",
       "hire_date           0.000000\n",
       "start_date         84.745763\n",
       "end_date           84.745763\n",
       "salary              0.000000\n",
       "min_salary          0.000000\n",
       "max_salary          0.000000\n",
       "commission_pct      0.000000\n",
       "department_name     0.847458\n",
       "job_title           0.000000\n",
       "city                0.847458\n",
       "country_id          0.847458\n",
       "country_name        0.847458\n",
       "region_name         0.847458\n",
       "dtype: float64"
      ]
     },
     "execution_count": 6,
     "metadata": {},
     "output_type": "execute_result"
    }
   ],
   "source": [
    "df.isna().sum()/df.shape[0]*100"
   ]
  },
  {
   "cell_type": "markdown",
   "metadata": {},
   "source": [
    "dapat dilihat bahwa banyak data kosong pada kolom ```start_date``` dan ```end_date``` melebihi 80 %. Pada awalnya diharapkan dari data tersebut data diketahui berapa lama karyawan bekerja di perusahaan namun karena data tersebut banyak yang kosong maka tidak terpakai padahal data tersebut sangat bagus untuk menunjukkan karir dari karyawan tersebut."
   ]
  },
  {
   "cell_type": "code",
   "execution_count": 4,
   "metadata": {
    "scrolled": true
   },
   "outputs": [
    {
     "data": {
      "text/html": [
       "<div>\n",
       "<style scoped>\n",
       "    .dataframe tbody tr th:only-of-type {\n",
       "        vertical-align: middle;\n",
       "    }\n",
       "\n",
       "    .dataframe tbody tr th {\n",
       "        vertical-align: top;\n",
       "    }\n",
       "\n",
       "    .dataframe thead th {\n",
       "        text-align: right;\n",
       "    }\n",
       "</style>\n",
       "<table border=\"1\" class=\"dataframe\">\n",
       "  <thead>\n",
       "    <tr style=\"text-align: right;\">\n",
       "      <th></th>\n",
       "      <th>name</th>\n",
       "      <th>phone_number</th>\n",
       "      <th>hire_date</th>\n",
       "      <th>salary</th>\n",
       "      <th>min_salary</th>\n",
       "      <th>max_salary</th>\n",
       "      <th>commission_pct</th>\n",
       "      <th>department_name</th>\n",
       "      <th>job_title</th>\n",
       "      <th>city</th>\n",
       "      <th>country_id</th>\n",
       "      <th>country_name</th>\n",
       "      <th>region_name</th>\n",
       "    </tr>\n",
       "  </thead>\n",
       "  <tbody>\n",
       "    <tr>\n",
       "      <th>0</th>\n",
       "      <td>Steven King</td>\n",
       "      <td>515.123.4567</td>\n",
       "      <td>1987-06-17</td>\n",
       "      <td>24000.00</td>\n",
       "      <td>20000</td>\n",
       "      <td>40000</td>\n",
       "      <td>0.00</td>\n",
       "      <td>Executive</td>\n",
       "      <td>President</td>\n",
       "      <td>Seattle</td>\n",
       "      <td>US</td>\n",
       "      <td>United States of America</td>\n",
       "      <td>Americas\\r</td>\n",
       "    </tr>\n",
       "    <tr>\n",
       "      <th>1</th>\n",
       "      <td>Neena Kochhar</td>\n",
       "      <td>515.123.4568</td>\n",
       "      <td>1987-06-18</td>\n",
       "      <td>17000.00</td>\n",
       "      <td>15000</td>\n",
       "      <td>30000</td>\n",
       "      <td>0.00</td>\n",
       "      <td>Executive</td>\n",
       "      <td>Administration Vice President</td>\n",
       "      <td>Seattle</td>\n",
       "      <td>US</td>\n",
       "      <td>United States of America</td>\n",
       "      <td>Americas\\r</td>\n",
       "    </tr>\n",
       "    <tr>\n",
       "      <th>2</th>\n",
       "      <td>Lex De Haan</td>\n",
       "      <td>515.123.4569</td>\n",
       "      <td>1987-06-19</td>\n",
       "      <td>17000.00</td>\n",
       "      <td>15000</td>\n",
       "      <td>30000</td>\n",
       "      <td>0.00</td>\n",
       "      <td>Executive</td>\n",
       "      <td>Administration Vice President</td>\n",
       "      <td>Seattle</td>\n",
       "      <td>US</td>\n",
       "      <td>United States of America</td>\n",
       "      <td>Americas\\r</td>\n",
       "    </tr>\n",
       "    <tr>\n",
       "      <th>3</th>\n",
       "      <td>Alexander Hunold</td>\n",
       "      <td>590.423.4567</td>\n",
       "      <td>1987-06-20</td>\n",
       "      <td>9000.00</td>\n",
       "      <td>4000</td>\n",
       "      <td>10000</td>\n",
       "      <td>0.00</td>\n",
       "      <td>IT</td>\n",
       "      <td>Programmer</td>\n",
       "      <td>Southlake</td>\n",
       "      <td>US</td>\n",
       "      <td>United States of America</td>\n",
       "      <td>Americas\\r</td>\n",
       "    </tr>\n",
       "    <tr>\n",
       "      <th>4</th>\n",
       "      <td>Bruce Ernst</td>\n",
       "      <td>590.423.4568</td>\n",
       "      <td>1987-06-21</td>\n",
       "      <td>6000.00</td>\n",
       "      <td>4000</td>\n",
       "      <td>10000</td>\n",
       "      <td>0.00</td>\n",
       "      <td>IT</td>\n",
       "      <td>Programmer</td>\n",
       "      <td>Southlake</td>\n",
       "      <td>US</td>\n",
       "      <td>United States of America</td>\n",
       "      <td>Americas\\r</td>\n",
       "    </tr>\n",
       "  </tbody>\n",
       "</table>\n",
       "</div>"
      ],
      "text/plain": [
       "               name  phone_number   hire_date    salary min_salary max_salary  \\\n",
       "0       Steven King  515.123.4567  1987-06-17  24000.00      20000      40000   \n",
       "1     Neena Kochhar  515.123.4568  1987-06-18  17000.00      15000      30000   \n",
       "2       Lex De Haan  515.123.4569  1987-06-19  17000.00      15000      30000   \n",
       "3  Alexander Hunold  590.423.4567  1987-06-20   9000.00       4000      10000   \n",
       "4       Bruce Ernst  590.423.4568  1987-06-21   6000.00       4000      10000   \n",
       "\n",
       "  commission_pct department_name                      job_title       city  \\\n",
       "0           0.00       Executive                      President    Seattle   \n",
       "1           0.00       Executive  Administration Vice President    Seattle   \n",
       "2           0.00       Executive  Administration Vice President    Seattle   \n",
       "3           0.00              IT                     Programmer  Southlake   \n",
       "4           0.00              IT                     Programmer  Southlake   \n",
       "\n",
       "  country_id              country_name region_name  \n",
       "0         US  United States of America  Americas\\r  \n",
       "1         US  United States of America  Americas\\r  \n",
       "2         US  United States of America  Americas\\r  \n",
       "3         US  United States of America  Americas\\r  \n",
       "4         US  United States of America  Americas\\r  "
      ]
     },
     "execution_count": 4,
     "metadata": {},
     "output_type": "execute_result"
    }
   ],
   "source": [
    "mycursor = mydb.cursor()\n",
    "query = '''\n",
    "SELECT  CONCAT(first_name,' ', LAST_NAME) AS name,e.phone_number,e.hire_date,e.salary,o.min_salary,o.max_salary,e.commission_pct,d.department_name,o.job_title,l.city,l.country_id,c.country_name,r.region_name\n",
    "FROM employees e\n",
    "left join departments d\n",
    "ON e.department_id = d.department_id\n",
    "left join jobs o\n",
    "on e.job_id = o.job_id\n",
    "left join locations l\n",
    "on d.location_id = l.location_id\n",
    "left join countries c\n",
    "on l.country_id = c.country_id\n",
    "left join regions r\n",
    "on c.region_id = r.region_id'''\n",
    "mycursor.execute(query)\n",
    "result = mycursor.fetchall()\n",
    "df = pd.DataFrame(result, columns = mycursor.column_names)\n",
    "df.head()"
   ]
  },
  {
   "cell_type": "code",
   "execution_count": 5,
   "metadata": {},
   "outputs": [
    {
     "data": {
      "text/plain": [
       "name               0.000000\n",
       "phone_number       0.000000\n",
       "hire_date          0.000000\n",
       "salary             0.000000\n",
       "min_salary         0.000000\n",
       "max_salary         0.000000\n",
       "commission_pct     0.000000\n",
       "department_name    0.934579\n",
       "job_title          0.000000\n",
       "city               0.934579\n",
       "country_id         0.934579\n",
       "country_name       0.934579\n",
       "region_name        0.934579\n",
       "dtype: float64"
      ]
     },
     "execution_count": 5,
     "metadata": {},
     "output_type": "execute_result"
    }
   ],
   "source": [
    "df.isna().sum()/df.shape[0]*100"
   ]
  },
  {
   "cell_type": "markdown",
   "metadata": {},
   "source": [
    "Masih Terdapat missing value dalam jumlah persentase yang sama, dapat dipastikan missing value berada dalam baris yang sama. Untuk itu dilakukan pengecekan."
   ]
  },
  {
   "cell_type": "code",
   "execution_count": 6,
   "metadata": {},
   "outputs": [
    {
     "data": {
      "text/html": [
       "<div>\n",
       "<style scoped>\n",
       "    .dataframe tbody tr th:only-of-type {\n",
       "        vertical-align: middle;\n",
       "    }\n",
       "\n",
       "    .dataframe tbody tr th {\n",
       "        vertical-align: top;\n",
       "    }\n",
       "\n",
       "    .dataframe thead th {\n",
       "        text-align: right;\n",
       "    }\n",
       "</style>\n",
       "<table border=\"1\" class=\"dataframe\">\n",
       "  <thead>\n",
       "    <tr style=\"text-align: right;\">\n",
       "      <th></th>\n",
       "      <th>name</th>\n",
       "      <th>phone_number</th>\n",
       "      <th>hire_date</th>\n",
       "      <th>salary</th>\n",
       "      <th>min_salary</th>\n",
       "      <th>max_salary</th>\n",
       "      <th>commission_pct</th>\n",
       "      <th>department_name</th>\n",
       "      <th>job_title</th>\n",
       "      <th>city</th>\n",
       "      <th>country_id</th>\n",
       "      <th>country_name</th>\n",
       "      <th>region_name</th>\n",
       "    </tr>\n",
       "  </thead>\n",
       "  <tbody>\n",
       "    <tr>\n",
       "      <th>78</th>\n",
       "      <td>Kimberely Grant</td>\n",
       "      <td>011.44.1644.429263</td>\n",
       "      <td>1987-09-03</td>\n",
       "      <td>7000.00</td>\n",
       "      <td>6000</td>\n",
       "      <td>12000</td>\n",
       "      <td>0.15</td>\n",
       "      <td>None</td>\n",
       "      <td>Sales Representative</td>\n",
       "      <td>None</td>\n",
       "      <td>None</td>\n",
       "      <td>None</td>\n",
       "      <td>None</td>\n",
       "    </tr>\n",
       "  </tbody>\n",
       "</table>\n",
       "</div>"
      ],
      "text/plain": [
       "               name        phone_number   hire_date   salary min_salary  \\\n",
       "78  Kimberely Grant  011.44.1644.429263  1987-09-03  7000.00       6000   \n",
       "\n",
       "   max_salary commission_pct department_name             job_title  city  \\\n",
       "78      12000           0.15            None  Sales Representative  None   \n",
       "\n",
       "   country_id country_name region_name  \n",
       "78       None         None        None  "
      ]
     },
     "execution_count": 6,
     "metadata": {},
     "output_type": "execute_result"
    }
   ],
   "source": [
    "df[df['department_name'].isna()]"
   ]
  },
  {
   "cell_type": "code",
   "execution_count": 7,
   "metadata": {},
   "outputs": [
    {
     "data": {
      "text/html": [
       "<div>\n",
       "<style scoped>\n",
       "    .dataframe tbody tr th:only-of-type {\n",
       "        vertical-align: middle;\n",
       "    }\n",
       "\n",
       "    .dataframe tbody tr th {\n",
       "        vertical-align: top;\n",
       "    }\n",
       "\n",
       "    .dataframe thead th {\n",
       "        text-align: right;\n",
       "    }\n",
       "</style>\n",
       "<table border=\"1\" class=\"dataframe\">\n",
       "  <thead>\n",
       "    <tr style=\"text-align: right;\">\n",
       "      <th></th>\n",
       "      <th>name</th>\n",
       "      <th>phone_number</th>\n",
       "      <th>hire_date</th>\n",
       "      <th>salary</th>\n",
       "      <th>min_salary</th>\n",
       "      <th>max_salary</th>\n",
       "      <th>commission_pct</th>\n",
       "      <th>department_name</th>\n",
       "      <th>job_title</th>\n",
       "      <th>city</th>\n",
       "      <th>country_id</th>\n",
       "      <th>country_name</th>\n",
       "      <th>region_name</th>\n",
       "    </tr>\n",
       "  </thead>\n",
       "  <tbody>\n",
       "    <tr>\n",
       "      <th>77</th>\n",
       "      <td>Jack Livingston</td>\n",
       "      <td>011.44.1644.429264</td>\n",
       "      <td>1987-09-02</td>\n",
       "      <td>8400.00</td>\n",
       "      <td>6000</td>\n",
       "      <td>12000</td>\n",
       "      <td>0.20</td>\n",
       "      <td>Sales</td>\n",
       "      <td>Sales Representative</td>\n",
       "      <td>OX9 9ZB</td>\n",
       "      <td>UK</td>\n",
       "      <td>United Kingdom</td>\n",
       "      <td>Europe\\r</td>\n",
       "    </tr>\n",
       "    <tr>\n",
       "      <th>78</th>\n",
       "      <td>Kimberely Grant</td>\n",
       "      <td>011.44.1644.429263</td>\n",
       "      <td>1987-09-03</td>\n",
       "      <td>7000.00</td>\n",
       "      <td>6000</td>\n",
       "      <td>12000</td>\n",
       "      <td>0.15</td>\n",
       "      <td>None</td>\n",
       "      <td>Sales Representative</td>\n",
       "      <td>None</td>\n",
       "      <td>None</td>\n",
       "      <td>None</td>\n",
       "      <td>None</td>\n",
       "    </tr>\n",
       "  </tbody>\n",
       "</table>\n",
       "</div>"
      ],
      "text/plain": [
       "               name        phone_number   hire_date   salary min_salary  \\\n",
       "77  Jack Livingston  011.44.1644.429264  1987-09-02  8400.00       6000   \n",
       "78  Kimberely Grant  011.44.1644.429263  1987-09-03  7000.00       6000   \n",
       "\n",
       "   max_salary commission_pct department_name             job_title     city  \\\n",
       "77      12000           0.20           Sales  Sales Representative  OX9 9ZB   \n",
       "78      12000           0.15            None  Sales Representative     None   \n",
       "\n",
       "   country_id    country_name region_name  \n",
       "77         UK  United Kingdom    Europe\\r  \n",
       "78       None            None        None  "
      ]
     },
     "execution_count": 7,
     "metadata": {},
     "output_type": "execute_result"
    }
   ],
   "source": [
    "df[77:79]"
   ]
  },
  {
   "cell_type": "markdown",
   "metadata": {},
   "source": [
    "Bila dibandingkan dengan data sebelumnya data tersebut memiliki kesamaan nomor depan telepon sehingga dapat dipastikan mereka memiliki daerah kerja yang sama."
   ]
  },
  {
   "cell_type": "code",
   "execution_count": 8,
   "metadata": {},
   "outputs": [],
   "source": [
    "df.ffill(inplace=True)"
   ]
  },
  {
   "cell_type": "code",
   "execution_count": 9,
   "metadata": {},
   "outputs": [
    {
     "data": {
      "text/plain": [
       "name               0\n",
       "phone_number       0\n",
       "hire_date          0\n",
       "salary             0\n",
       "min_salary         0\n",
       "max_salary         0\n",
       "commission_pct     0\n",
       "department_name    0\n",
       "job_title          0\n",
       "city               0\n",
       "country_id         0\n",
       "country_name       0\n",
       "region_name        0\n",
       "dtype: int64"
      ]
     },
     "execution_count": 9,
     "metadata": {},
     "output_type": "execute_result"
    }
   ],
   "source": [
    "df.isna().sum()"
   ]
  },
  {
   "cell_type": "markdown",
   "metadata": {},
   "source": [
    "### Data Formatting"
   ]
  },
  {
   "cell_type": "code",
   "execution_count": 10,
   "metadata": {},
   "outputs": [
    {
     "name": "stdout",
     "output_type": "stream",
     "text": [
      "<class 'pandas.core.frame.DataFrame'>\n",
      "RangeIndex: 107 entries, 0 to 106\n",
      "Data columns (total 13 columns):\n",
      " #   Column           Non-Null Count  Dtype \n",
      "---  ------           --------------  ----- \n",
      " 0   name             107 non-null    object\n",
      " 1   phone_number     107 non-null    object\n",
      " 2   hire_date        107 non-null    object\n",
      " 3   salary           107 non-null    object\n",
      " 4   min_salary       107 non-null    object\n",
      " 5   max_salary       107 non-null    object\n",
      " 6   commission_pct   107 non-null    object\n",
      " 7   department_name  107 non-null    object\n",
      " 8   job_title        107 non-null    object\n",
      " 9   city             107 non-null    object\n",
      " 10  country_id       107 non-null    object\n",
      " 11  country_name     107 non-null    object\n",
      " 12  region_name      107 non-null    object\n",
      "dtypes: object(13)\n",
      "memory usage: 11.0+ KB\n"
     ]
    }
   ],
   "source": [
    "df.info()"
   ]
  },
  {
   "cell_type": "markdown",
   "metadata": {},
   "source": [
    "Bila dilihat dari format data type yang ada,masih banyak data type yang salah. contohnya salary yang seharusnya integer atau float masih dalam bentuk object. Untuk itu perlu dilakukan data Formatting"
   ]
  },
  {
   "cell_type": "code",
   "execution_count": 11,
   "metadata": {},
   "outputs": [],
   "source": [
    "df['hire_date'] = pd.to_datetime(df['hire_date'])\n",
    "df['salary'] = df['salary'].astype('float')\n",
    "df['min_salary'] = pd.to_numeric(df['min_salary'])\n",
    "df['max_salary'] = pd.to_numeric(df['max_salary'])\n",
    "df['commission_pct'] = df['commission_pct'].astype('float')"
   ]
  },
  {
   "cell_type": "code",
   "execution_count": 12,
   "metadata": {},
   "outputs": [
    {
     "name": "stdout",
     "output_type": "stream",
     "text": [
      "<class 'pandas.core.frame.DataFrame'>\n",
      "RangeIndex: 107 entries, 0 to 106\n",
      "Data columns (total 13 columns):\n",
      " #   Column           Non-Null Count  Dtype         \n",
      "---  ------           --------------  -----         \n",
      " 0   name             107 non-null    object        \n",
      " 1   phone_number     107 non-null    object        \n",
      " 2   hire_date        107 non-null    datetime64[ns]\n",
      " 3   salary           107 non-null    float64       \n",
      " 4   min_salary       107 non-null    float64       \n",
      " 5   max_salary       107 non-null    float64       \n",
      " 6   commission_pct   107 non-null    float64       \n",
      " 7   department_name  107 non-null    object        \n",
      " 8   job_title        107 non-null    object        \n",
      " 9   city             107 non-null    object        \n",
      " 10  country_id       107 non-null    object        \n",
      " 11  country_name     107 non-null    object        \n",
      " 12  region_name      107 non-null    object        \n",
      "dtypes: datetime64[ns](1), float64(4), object(8)\n",
      "memory usage: 11.0+ KB\n"
     ]
    }
   ],
   "source": [
    "df.info()"
   ]
  },
  {
   "cell_type": "markdown",
   "metadata": {},
   "source": [
    "### Data Duplicate"
   ]
  },
  {
   "cell_type": "markdown",
   "metadata": {},
   "source": [
    "Untuk mengecek data duplikat, mudahnya adalah menggunakan unique value dari nomor telepon karena secara logika nomor telepon setiap orang berbeda."
   ]
  },
  {
   "cell_type": "code",
   "execution_count": 13,
   "metadata": {},
   "outputs": [
    {
     "data": {
      "text/plain": [
       "011.44.1644.429265    1\n",
       "650.123.2234          1\n",
       "515.123.8181          1\n",
       "603.123.6666          1\n",
       "011.44.1644.429267    1\n",
       "                     ..\n",
       "515.123.4569          1\n",
       "515.127.4561          1\n",
       "650.124.1214          1\n",
       "650.507.9833          1\n",
       "650.127.1634          1\n",
       "Name: phone_number, Length: 107, dtype: int64"
      ]
     },
     "execution_count": 13,
     "metadata": {},
     "output_type": "execute_result"
    }
   ],
   "source": [
    "df['phone_number'].value_counts()"
   ]
  },
  {
   "cell_type": "markdown",
   "metadata": {},
   "source": [
    "Dapat dilihat jumlah data tetap sama 107 dengan data lainnya"
   ]
  },
  {
   "cell_type": "markdown",
   "metadata": {},
   "source": [
    "### Data Outlier"
   ]
  },
  {
   "cell_type": "code",
   "execution_count": 13,
   "metadata": {},
   "outputs": [
    {
     "data": {
      "image/png": "[encoded data removed]",
      "text/plain": [
       "<Figure size 1440x576 with 2 Axes>"
      ]
     },
     "metadata": {
      "needs_background": "light"
     },
     "output_type": "display_data"
    }
   ],
   "source": [
    "def outlier(col):\n",
    "    q1 = df[col].quantile(0.25)\n",
    "    q3 = df[col].quantile(0.75)\n",
    "    iqr = q3 - q1\n",
    "    below = q1 - 1.5 * iqr\n",
    "    above = q3 + 1.5 * iqr\n",
    "    idx_outlier = df[(df[col] > above) | (df[col] < below)].index\n",
    "    return idx_outlier\n",
    "\n",
    "fig, axes= plt.subplots(2,1, figsize=(20,8))\n",
    "for nf, ax in zip(['salary','commission_pct'], axes.flatten()):\n",
    "    sns.boxplot(df[nf],orient='v', ax=ax)"
   ]
  },
  {
   "cell_type": "code",
   "execution_count": 26,
   "metadata": {},
   "outputs": [
    {
     "data": {
      "text/html": [
       "<div>\n",
       "<style scoped>\n",
       "    .dataframe tbody tr th:only-of-type {\n",
       "        vertical-align: middle;\n",
       "    }\n",
       "\n",
       "    .dataframe tbody tr th {\n",
       "        vertical-align: top;\n",
       "    }\n",
       "\n",
       "    .dataframe thead th {\n",
       "        text-align: right;\n",
       "    }\n",
       "</style>\n",
       "<table border=\"1\" class=\"dataframe\">\n",
       "  <thead>\n",
       "    <tr style=\"text-align: right;\">\n",
       "      <th></th>\n",
       "      <th>name</th>\n",
       "      <th>phone_number</th>\n",
       "      <th>hire_date</th>\n",
       "      <th>salary</th>\n",
       "      <th>min_salary</th>\n",
       "      <th>max_salary</th>\n",
       "      <th>commission_pct</th>\n",
       "      <th>department_name</th>\n",
       "      <th>job_title</th>\n",
       "      <th>city</th>\n",
       "      <th>country_id</th>\n",
       "      <th>country_name</th>\n",
       "      <th>region_name</th>\n",
       "    </tr>\n",
       "  </thead>\n",
       "  <tbody>\n",
       "    <tr>\n",
       "      <th>0</th>\n",
       "      <td>Steven King</td>\n",
       "      <td>515.123.4567</td>\n",
       "      <td>1987-06-17</td>\n",
       "      <td>24000.0</td>\n",
       "      <td>20000.0</td>\n",
       "      <td>40000.0</td>\n",
       "      <td>0.0</td>\n",
       "      <td>Executive</td>\n",
       "      <td>President</td>\n",
       "      <td>Seattle</td>\n",
       "      <td>US</td>\n",
       "      <td>United States of America</td>\n",
       "      <td>Americas\\r</td>\n",
       "    </tr>\n",
       "    <tr>\n",
       "      <th>45</th>\n",
       "      <td>John Russell</td>\n",
       "      <td>011.44.1344.429268</td>\n",
       "      <td>1987-08-01</td>\n",
       "      <td>14000.0</td>\n",
       "      <td>10000.0</td>\n",
       "      <td>20000.0</td>\n",
       "      <td>0.4</td>\n",
       "      <td>Sales</td>\n",
       "      <td>Sales Manager</td>\n",
       "      <td>OX9 9ZB</td>\n",
       "      <td>UK</td>\n",
       "      <td>United Kingdom</td>\n",
       "      <td>Europe\\r</td>\n",
       "    </tr>\n",
       "  </tbody>\n",
       "</table>\n",
       "</div>"
      ],
      "text/plain": [
       "            name        phone_number  hire_date   salary  min_salary  \\\n",
       "0    Steven King        515.123.4567 1987-06-17  24000.0     20000.0   \n",
       "45  John Russell  011.44.1344.429268 1987-08-01  14000.0     10000.0   \n",
       "\n",
       "    max_salary  commission_pct department_name      job_title     city  \\\n",
       "0      40000.0             0.0       Executive      President  Seattle   \n",
       "45     20000.0             0.4           Sales  Sales Manager  OX9 9ZB   \n",
       "\n",
       "   country_id              country_name region_name  \n",
       "0          US  United States of America  Americas\\r  \n",
       "45         UK            United Kingdom    Europe\\r  "
      ]
     },
     "execution_count": 26,
     "metadata": {},
     "output_type": "execute_result"
    }
   ],
   "source": [
    "outlier_salary = df.loc[outlier('salary')]\n",
    "outlier_commission = df.loc[outlier('commission_pct')]\n",
    "pd.concat([outlier_salary,outlier_commission])"
   ]
  },
  {
   "cell_type": "markdown",
   "metadata": {},
   "source": [
    "Terdapat dua outlier dari kolom ```salary``` dan ```commission_pct```, hal ini wajar dikarenakan kedua jabatan dari outlier tersebut memang tinggi. Gaji jabatan Eksekutif Presiden tertinggi dan Komisi dari Sales Manajer tertinggi."
   ]
  },
  {
   "cell_type": "markdown",
   "metadata": {},
   "source": [
    ">## Database Visualization"
   ]
  },
  {
   "cell_type": "markdown",
   "metadata": {},
   "source": [
    "Data visualization akan menggunakan kombinasi dari Tableu dan modul yang ada dikarenakan lebih praktis dan mudah dilihat. Hal ini akan mempermudah dan mempercepat pekerjaan. Untuk itu data akan ada data diekspor kedalam excel lalu akan diproses di Tableu dan lainnya menggunakan modul yang lain."
   ]
  },
  {
   "cell_type": "code",
   "execution_count": 19,
   "metadata": {},
   "outputs": [],
   "source": [
    "df.to_excel(\"hr.xlsx\")  "
   ]
  },
  {
   "cell_type": "code",
   "execution_count": 29,
   "metadata": {
    "scrolled": false
   },
   "outputs": [
    {
     "data": {
      "text/html": [
       "<img src=\"piechart.png\" width=\"1000\" height=\"1323\"/>"
      ],
      "text/plain": [
       "<IPython.core.display.Image object>"
      ]
     },
     "execution_count": 29,
     "metadata": {},
     "output_type": "execute_result"
    }
   ],
   "source": [
    "Image(url=\"piechart.png\", width=1000, height=1323)"
   ]
  },
  {
   "cell_type": "markdown",
   "metadata": {},
   "source": [
    "Bisa dilihat dari pie chart diatas departemen Sales menguasai pengeluaran terbanyak dalam urusan perusahaan menggaji karyawan dan juga hanya di departemen sales saja komisi berlaku sehingga wajar apabila perusahaan mengeluarkan uang lebih banyak untuk membayar gaji departemen ini. "
   ]
  },
  {
   "cell_type": "markdown",
   "metadata": {},
   "source": [
    "### Apakah perusahaan efektif dalam pengeluaran untuk menggaji Karyawan?"
   ]
  },
  {
   "cell_type": "markdown",
   "metadata": {},
   "source": [
    "Seperti yang diketahui dalam grafik diatas perusahaan fokus terhadap departemen sales atau penjualan, sekarang akan dilakukan analisa lebih mendalam dalam departemen ini apakah pengeluaran departemen ini bisa lebih efektif karena dalam perusahaan perdagangan nyawa atau motor penggeraknya ada di departemen sales/penjualan."
   ]
  },
  {
   "cell_type": "code",
   "execution_count": 46,
   "metadata": {},
   "outputs": [
    {
     "data": {
      "text/html": [
       "<img src=\"map_employee.png\" width=\"650\" height=\"860\"/>"
      ],
      "text/plain": [
       "<IPython.core.display.Image object>"
      ]
     },
     "execution_count": 46,
     "metadata": {},
     "output_type": "execute_result"
    }
   ],
   "source": [
    "Image(url=\"map_employee.png\", width=650, height=860)"
   ]
  },
  {
   "cell_type": "markdown",
   "metadata": {},
   "source": [
    "Bisa dilihat dipersebaran pekerja mayoritas berada di US sehingga dapat disimpulkan perusahaan ini berbasis di US."
   ]
  },
  {
   "cell_type": "code",
   "execution_count": 47,
   "metadata": {},
   "outputs": [
    {
     "data": {
      "text/html": [
       "<img src=\"map_employee_sales.png\" width=\"650\" height=\"860\"/>"
      ],
      "text/plain": [
       "<IPython.core.display.Image object>"
      ]
     },
     "execution_count": 47,
     "metadata": {},
     "output_type": "execute_result"
    }
   ],
   "source": [
    "Image(url=\"map_employee_sales.png\", width=650, height=860)"
   ]
  },
  {
   "cell_type": "markdown",
   "metadata": {},
   "source": [
    "Sedangkan untuk departemen Sales ternyata memiliki kantor di UK atau Inggris. Bisa dilihat pekerja Sales berada di Inggris. Hal ini tentu mempengaruhi pembayaran gaji karena perbedaan mata uang sehingga perusahaan membayar lebih mahal karena mata uang dollar dibawah pound Inggris. \n",
    "\n",
    "Mungkin ini terjadi karena komunikasi masih terbatas antar negara/benua, internet belum booming seperti sekarang sehingga perusahaan perlu membayar lebih untuk karyawan yang bekerja diluar US. Hal ini bisa diatasi dengan menggunakan perusahaan kedua atau subcontractor untuk menekan pengeluaran perusahaan karena selain Inggris pekerja di daerah lain seperti Kanada dan Jerman jumlahnya sedikit."
   ]
  },
  {
   "cell_type": "markdown",
   "metadata": {},
   "source": [
    "### Apakah gaji  dan bonus dari departemen sales saling berkorelasi?"
   ]
  },
  {
   "cell_type": "markdown",
   "metadata": {},
   "source": [
    "Pertama kita uji distribusi terlebih dahulu dari data gaji"
   ]
  },
  {
   "cell_type": "code",
   "execution_count": 73,
   "metadata": {},
   "outputs": [
    {
     "name": "stdout",
     "output_type": "stream",
     "text": [
      "not normal distribution\n"
     ]
    }
   ],
   "source": [
    "sw_statistic, sw_pvalue = shapiro(df['salary'])\n",
    "\n",
    "if  sw_pvalue >0.05:\n",
    "    print('normal distribution')\n",
    "else:\n",
    "    print('not normal distribution')"
   ]
  },
  {
   "cell_type": "code",
   "execution_count": 51,
   "metadata": {},
   "outputs": [
    {
     "data": {
      "text/plain": [
       "0.5828095386011345"
      ]
     },
     "execution_count": 51,
     "metadata": {},
     "output_type": "execute_result"
    }
   ],
   "source": [
    "df['salary'].corr(df['commission_pct'],method='spearman')"
   ]
  },
  {
   "cell_type": "code",
   "execution_count": 66,
   "metadata": {},
   "outputs": [
    {
     "data": {
      "text/plain": [
       "<AxesSubplot:xlabel='salary', ylabel='commission_pct'>"
      ]
     },
     "execution_count": 66,
     "metadata": {},
     "output_type": "execute_result"
    },
    {
     "data": {
      "image/png": "[encoded data removed]",
      "text/plain": [
       "<Figure size 432x288 with 1 Axes>"
      ]
     },
     "metadata": {
      "needs_background": "light"
     },
     "output_type": "display_data"
    }
   ],
   "source": [
    "sns.scatterplot(data= df,x='salary', y = 'commission_pct')"
   ]
  },
  {
   "cell_type": "markdown",
   "metadata": {},
   "source": [
    "Korelasinya tidak begitu kuat dan tidak terlalu lemah sehingga dapat disimpulkan korelasi data hubungannya sedang"
   ]
  },
  {
   "cell_type": "markdown",
   "metadata": {},
   "source": [
    "### apakah gaji karyawan di setiap departemen dan jabatan berimbang?"
   ]
  },
  {
   "cell_type": "code",
   "execution_count": 67,
   "metadata": {},
   "outputs": [
    {
     "data": {
      "text/html": [
       "<img src=\"sales_commission.png\" width=\"650\" height=\"860\"/>"
      ],
      "text/plain": [
       "<IPython.core.display.Image object>"
      ]
     },
     "execution_count": 67,
     "metadata": {},
     "output_type": "execute_result"
    }
   ],
   "source": [
    "Image(url=\"sales_commission.png\", width=650, height=860)"
   ]
  },
  {
   "cell_type": "markdown",
   "metadata": {},
   "source": [
    "Bisa dilihat di grafik diatas contohnya Lisa Ozer, walaupun berbeda jabatan gaji dan komisi dapat melampaui jabatan diatasnya Eleni Ziotkey meskipun berada di departemen yang sama. Hal ini menimbulkan pertanyaan baru, apakah gaji karyawan di setiap departemen dan jabatan berimbang? Hal ni penting dibahas karena disetiap jabatan perusahaan memiliki tanggungjawab yang berbeda sehingga terdapat gap dipendapatan. Tetapi gap tersebut tidak boleh terlalu jauh atau terlalu dekat karena dapat menimbulkan kecemburuan sosial dalam perusahaan sehingga menurunkan mental dan peforma dari karyawan. Berikut ini analisanya."
   ]
  },
  {
   "cell_type": "code",
   "execution_count": 71,
   "metadata": {},
   "outputs": [
    {
     "data": {
      "text/html": [
       "<img src=\"salary.png\" width=\"860\" height=\"650\"/>"
      ],
      "text/plain": [
       "<IPython.core.display.Image object>"
      ]
     },
     "execution_count": 71,
     "metadata": {},
     "output_type": "execute_result"
    }
   ],
   "source": [
    "Image(url=\"salary.png\", width=860, height=650)"
   ]
  },
  {
   "cell_type": "code",
   "execution_count": 81,
   "metadata": {},
   "outputs": [
    {
     "name": "stdout",
     "output_type": "stream",
     "text": [
      "median salary President: 24000.0\n",
      "median salary Administration Vice President: 17000.0\n",
      "median salary Programmer: 4800.0\n",
      "median salary Finance Manager: 12000.0\n",
      "median salary Accountant: 7800.0\n",
      "median salary Purchasing Manager: 11000.0\n",
      "median salary Purchasing Clerk: 2800.0\n",
      "median salary Stock Manager: 7900.0\n",
      "median salary Stock Clerk: 2700.0\n",
      "median salary Sales Manager: 12000.0\n",
      "median salary Sales Representative: 8200.0\n",
      "median salary Shipping Clerk: 3100.0\n",
      "median salary Administration Assistant: 4400.0\n",
      "median salary Marketing Manager: 13000.0\n",
      "median salary Marketing Representative: 6000.0\n",
      "median salary Human Resources Representative: 6500.0\n",
      "median salary Public Relations Representative: 10000.0\n",
      "median salary Accounting Manager: 12000.0\n",
      "median salary Public Accountant: 8300.0\n",
      "Total median salary 6200.0\n"
     ]
    }
   ],
   "source": [
    "for i in df['job_title'].unique():\n",
    "    print('median salary {}: {}'.format(i,df[df['job_title']==i]['salary'].median()))\n",
    "    \n",
    "print('Total median salary',df['salary'].median())"
   ]
  },
  {
   "cell_type": "code",
   "execution_count": 97,
   "metadata": {},
   "outputs": [
    {
     "name": "stdout",
     "output_type": "stream",
     "text": [
      "Tidak ada perbedaan rata - rata gaji di jabatan representatif\n"
     ]
    }
   ],
   "source": [
    "statistic,pvalue = kruskal(df[df['job_title']=='Sales Representative']['salary'],\n",
    "       df[df['job_title']=='Marketing Representative']['salary'],\n",
    "       df[df['job_title']=='Human Resources Representative']['salary'],\n",
    "       df[df['job_title']=='Public Relations Representative']['salary'])\n",
    "\n",
    "if  pvalue >0.05:\n",
    "    print('Tidak ada perbedaan rata - rata gaji di jabatan representatif')\n",
    "else:\n",
    "    print('Setidaknya ada satu pasang kelompok yang rata - rata tidak sama di jabatan representatif')\n"
   ]
  },
  {
   "cell_type": "code",
   "execution_count": 92,
   "metadata": {},
   "outputs": [
    {
     "name": "stdout",
     "output_type": "stream",
     "text": [
      "median salary Executive: 17000.0\n",
      "median salary IT: 4800.0\n",
      "median salary Finance: 8000.0\n",
      "median salary Purchasing: 2850.0\n",
      "median salary Shipping: 3100.0\n",
      "median salary Sales: 8900.0\n",
      "median salary None: nan\n",
      "median salary Administration: 4400.0\n",
      "median salary Marketing: 9500.0\n",
      "median salary Human Resources: 6500.0\n",
      "median salary Public Relations: 10000.0\n",
      "median salary Accounting: 10150.0\n",
      "Total median salary 6200.0\n"
     ]
    }
   ],
   "source": [
    "for i in df['department_name'].unique():\n",
    "    print('median salary {}: {}'.format(i,df[df['department_name']==i]['salary'].median()))\n",
    "    \n",
    "print('Total median salary',df['salary'].median())"
   ]
  },
  {
   "cell_type": "code",
   "execution_count": 98,
   "metadata": {},
   "outputs": [
    {
     "name": "stdout",
     "output_type": "stream",
     "text": [
      "Setidaknya ada satu pasang kelompok yang rata - rata tidak sama di antara departemen\n"
     ]
    }
   ],
   "source": [
    "statistic,pvalue = kruskal(df[df['department_name']=='Executive']['salary'],\n",
    "       df[df['department_name']=='IT']['salary'],\n",
    "       df[df['department_name']=='Finance']['salary'],\n",
    "       df[df['department_name']=='Purchasing']['salary'],\n",
    "       df[df['department_name']=='Shipping']['salary'],\n",
    "       df[df['department_name']=='Sales']['salary'],   \n",
    "       df[df['department_name']=='Administration']['salary'],\n",
    "       df[df['department_name']=='Human Resources']['salary'],         \n",
    "       df[df['department_name']=='Public Relations']['salary'],          \n",
    "       df[df['department_name']=='Accounting']['salary'])\n",
    "\n",
    "if  pvalue >0.05:\n",
    "    print('Tidak ada perbedaan rata - rata gaji di antara departemen')\n",
    "else:\n",
    "    print('Setidaknya ada satu pasang kelompok yang rata - rata tidak sama di antara departemen')"
   ]
  },
  {
   "cell_type": "markdown",
   "metadata": {},
   "source": [
    "Dari uji hipotesis diatas ternyata gaji antara setiap departemen tidak imbang atau ada gap, dapat terlihat gap gaji antara departemen eksekutif dan departemen shipping amat jauh. \n",
    "\n",
    "Uji hipotesis juga dilakukan terhadap jabatan yang sama, diambil sampel dari jabatan representatif dari setiap departemen. Hasil uji ternyata antara jabatan memiliki rata - rata gaji yang berimbang. Tidak ada perbedaan signifikan dengan jarak yang cenderung kecil di tingkatan jabatan representatif di setiap departemen dengan jarak terkecil 6k -10k dollar."
   ]
  },
  {
   "cell_type": "markdown",
   "metadata": {},
   "source": [
    "# Summary"
   ]
  },
  {
   "cell_type": "markdown",
   "metadata": {},
   "source": [
    "Dengan data di atas dapat diambil kesimpulan bahwa perusahaan belum efektif dalam menggaji karyawannya. Hal ini bisa dibilang wajar karena data ini terbilang lama. Hal ini dapat diketahui dari tanggal perekrutan yaitu di tahun 1987 yang di mana informasi belum terbuka seperti saat ini.\n",
    "\n",
    "Salah satu contohnya adalah perusahaan masih mengandalkan representatif di luar markas perusahaan di USA. Mereka masih menggaji sales atau penjual dari luar negeri yang apabila pada saat sekarang dengan internet sosial media dengan affiliatornya yang biasanya menjadi garda terdepan dalam penjualan. Tetapi pada saat itu juga bisa diatasi dengan menggunakan subcontractor untuk mengontrak sales untuk meningkatkan penjualan. Sehingga perusahaan tidak perlu menggaji secara besar kepada tenaga sales tetapi lebih menekankan pada pemberian komisi untuk setiap produk yang berhasil dijual.\n",
    "\n",
    "Yang berikutnya adalah gaji tidak berimbang antar departemen. Hal ini dapat dibuktikan dengan grafik dan uji hipotesis yang telah dilakukan.  Walaupun di tingakatan jabatan yang sama gaji berimbang, bila dilihat dalam grafik dapat diasumsikan terdapat gap gaji yang besar ditingkat manajer dan representatif yang membuat gap gaji antar departemen menjadi tidak berimbang. Hal ini perlu ditindaklanjuti karena terdapat gap yang besar di tingkatan jabatan berbeda seperti contohnya di departemen marketing."
   ]
  }
 ],
 "metadata": {
  "kernelspec": {
   "display_name": "Python 3",
   "language": "python",
   "name": "python3"
  },
  "language_info": {
   "codemirror_mode": {
    "name": "ipython",
    "version": 3
   },
   "file_extension": ".py",
   "mimetype": "text/x-python",
   "name": "python",
   "nbconvert_exporter": "python",
   "pygments_lexer": "ipython3",
   "version": "3.8.5"
  }
 },
 "nbformat": 4,
 "nbformat_minor": 4
}
